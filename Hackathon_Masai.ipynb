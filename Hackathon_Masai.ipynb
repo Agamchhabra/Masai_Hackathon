{
  "nbformat": 4,
  "nbformat_minor": 0,
  "metadata": {
    "colab": {
      "provenance": []
    },
    "kernelspec": {
      "name": "python3",
      "display_name": "Python 3"
    },
    "language_info": {
      "name": "python"
    }
  },
  "cells": [
    {
      "cell_type": "code",
      "execution_count": null,
      "metadata": {
        "colab": {
          "base_uri": "https://localhost:8080/"
        },
        "id": "iH0DR6LQJtD7",
        "outputId": "34959f1a-5eab-4e8c-f71b-2a011cf9edba"
      },
      "outputs": [
        {
          "output_type": "stream",
          "name": "stdout",
          "text": [
            "\u001b[2K     \u001b[90m━━━━━━━━━━━━━━━━━━━━━━━━━━━━━━━━━━━━━━━━\u001b[0m \u001b[32m44.3/44.3 kB\u001b[0m \u001b[31m1.3 MB/s\u001b[0m eta \u001b[36m0:00:00\u001b[0m\n",
            "\u001b[2K   \u001b[90m━━━━━━━━━━━━━━━━━━━━━━━━━━━━━━━━━━━━━━━━\u001b[0m \u001b[32m9.8/9.8 MB\u001b[0m \u001b[31m53.0 MB/s\u001b[0m eta \u001b[36m0:00:00\u001b[0m\n",
            "\u001b[2K   \u001b[90m━━━━━━━━━━━━━━━━━━━━━━━━━━━━━━━━━━━━━━━━\u001b[0m \u001b[32m6.9/6.9 MB\u001b[0m \u001b[31m63.1 MB/s\u001b[0m eta \u001b[36m0:00:00\u001b[0m\n",
            "\u001b[2K   \u001b[90m━━━━━━━━━━━━━━━━━━━━━━━━━━━━━━━━━━━━━━━━\u001b[0m \u001b[32m79.1/79.1 kB\u001b[0m \u001b[31m4.8 MB/s\u001b[0m eta \u001b[36m0:00:00\u001b[0m\n",
            "\u001b[?25h"
          ]
        }
      ],
      "source": [
        "!pip install streamlit pyngrok --quiet\n"
      ]
    },
    {
      "cell_type": "code",
      "source": [
        "%%writefile app.py\n",
        "import streamlit as st\n",
        "import requests\n",
        "import pandas as pd\n",
        "import numpy as np\n",
        "from datetime import datetime\n",
        "import matplotlib.pyplot as plt\n",
        "from sklearn.ensemble import RandomForestRegressor\n",
        "from sklearn.model_selection import train_test_split\n",
        "from sklearn.metrics import mean_absolute_error\n",
        "\n",
        "st.set_page_config(layout=\"wide\")\n",
        "st.title(\"🌤️ Weather Forecasting App\")\n",
        "st.markdown(\"Using OpenWeatherMap + Random Forest\")\n",
        "\n",
        "# --- Step 1: Get Data ---\n",
        "API_KEY = \"f2b6527500ebd13d7c2db06eee2c7654\"\n",
        "CITY = st.text_input(\"Enter City Name\", \"Mumbai\")\n",
        "URL = f\"http://api.openweathermap.org/data/2.5/forecast?q={CITY}&appid={API_KEY}&units=metric\"\n",
        "\n",
        "@st.cache_data(show_spinner=False)\n",
        "def fetch_weather():\n",
        "    response = requests.get(URL)\n",
        "    data = response.json()\n",
        "\n",
        "    weather_data = []\n",
        "    for item in data['list']:\n",
        "        weather_data.append({\n",
        "            'date_time': datetime.utcfromtimestamp(item['dt']),\n",
        "            'temperature': item['main']['temp'],\n",
        "            'humidity': item['main']['humidity'],\n",
        "            'pressure': item['main']['pressure'],\n",
        "            'wind_speed': item['wind']['speed'],\n",
        "            'wind_direction': item['wind'].get('deg', 0),\n",
        "            'cloud_coverage': item['clouds']['all'],\n",
        "            'precipitation': item.get('rain', {}).get('3h', 0)\n",
        "        })\n",
        "\n",
        "    df = pd.DataFrame(weather_data)\n",
        "    df = df.fillna(method='ffill')\n",
        "    return df\n",
        "\n",
        "weather_df = fetch_weather()\n",
        "\n",
        "# --- Step 2: Model Training ---\n",
        "X = weather_df.drop(['temperature', 'date_time'], axis=1)\n",
        "y = weather_df['temperature']\n",
        "X_train, X_test, y_train, y_test = train_test_split(X, y, test_size=0.2)\n",
        "\n",
        "model = RandomForestRegressor()\n",
        "model.fit(X_train, y_train)\n",
        "\n",
        "forecast_df = weather_df.copy()\n",
        "forecast_df['predicted_temperature'] = model.predict(X)\n",
        "mae = mean_absolute_error(y_test, model.predict(X_test))\n",
        "\n",
        "# --- Step 3: Display Results ---\n",
        "st.subheader(\"📊 Actual vs Predicted Temperature\")\n",
        "st.line_chart(forecast_df.set_index('date_time')[['temperature', 'predicted_temperature']])\n",
        "\n",
        "st.markdown(f\"### Mean Absolute Error: `{mae:.2f} °C`\")\n",
        "\n",
        "# --- Step 4: Explore Predictions ---\n",
        "st.subheader(\"🔍 Explore Predictions\")\n",
        "\n",
        "row = st.slider(\"Select Time Index\", 0, len(forecast_df) - 1, len(forecast_df) - 1)\n",
        "data_point = forecast_df.iloc[row]\n",
        "\n",
        "st.info(f\"**Date/Time:** {data_point['date_time']}\")\n",
        "st.write(f\"🌡️ **Actual Temp:** {data_point['temperature']} °C\")\n",
        "st.write(f\"🔮 **Predicted Temp:** {data_point['predicted_temperature']:.2f} °C\")\n",
        "\n",
        "# --- Step 5: Feature Trend Visualization ---\n",
        "st.subheader(\"📈 Feature Trend Visualization\")\n",
        "features = [col for col in weather_df.columns if col not in ['date_time', 'temperature']]\n",
        "selected_features = st.multiselect(\"Select Features to Plot\", features, default=[features[0]])\n",
        "\n",
        "if selected_features:\n",
        "    fig, ax = plt.subplots(figsize=(12, 6))\n",
        "    for feature in selected_features:\n",
        "        ax.plot(weather_df['date_time'], weather_df[feature], label=feature)\n",
        "    ax.set_xlabel(\"Date Time\")\n",
        "    ax.set_ylabel(\"Value\")\n",
        "    ax.set_title(\"Weather Feature Trends\")\n",
        "    ax.legend()\n",
        "    plt.xticks(rotation=45)\n",
        "    st.pyplot(fig)\n"
      ],
      "metadata": {
        "colab": {
          "base_uri": "https://localhost:8080/"
        },
        "id": "nDWSxU98Jt02",
        "outputId": "19f8dc46-484f-458f-c2e0-b1e2f3b39e94"
      },
      "execution_count": null,
      "outputs": [
        {
          "output_type": "stream",
          "name": "stdout",
          "text": [
            "Writing app.py\n"
          ]
        }
      ]
    },
    {
      "cell_type": "code",
      "source": [
        "import os\n",
        "from pyngrok import conf\n",
        "\n",
        "# Replace YOUR_AUTHTOKEN with the token you copied\n",
        "os.system(\"ngrok config add-authtoken 2vc4XCserTvHtl3itTxOd17cpf1_2aEgJGSifFavUoUUhQhKM\")\n"
      ],
      "metadata": {
        "colab": {
          "base_uri": "https://localhost:8080/"
        },
        "id": "_WgukfCtJ4F7",
        "outputId": "ff38449f-56e2-489a-be0e-2093bff2f804"
      },
      "execution_count": null,
      "outputs": [
        {
          "output_type": "execute_result",
          "data": {
            "text/plain": [
              "0"
            ]
          },
          "metadata": {},
          "execution_count": 9
        }
      ]
    },
    {
      "cell_type": "code",
      "source": [
        "from pyngrok import ngrok\n",
        "import time\n",
        "\n",
        "# Kill previous tunnels\n",
        "ngrok.kill()\n",
        "\n",
        "# Start tunnel the new way\n",
        "public_url = ngrok.connect(\"http://localhost:8501\")\n",
        "print(f\"🌍 Your Streamlit app is live at: {public_url}\")\n",
        "\n",
        "# Run streamlit\n",
        "!streamlit run app.py &>/content/logs.txt &\n",
        "time.sleep(5)\n"
      ],
      "metadata": {
        "colab": {
          "base_uri": "https://localhost:8080/"
        },
        "id": "oN_MjLLjJ7NV",
        "outputId": "fb7f8e96-4cf1-4cf3-fc98-9d7b06dcf9a1"
      },
      "execution_count": null,
      "outputs": [
        {
          "output_type": "stream",
          "name": "stdout",
          "text": [
            "🌍 Your Streamlit app is live at: NgrokTunnel: \"https://ea1e-34-41-196-197.ngrok-free.app\" -> \"http://localhost:8501\"\n"
          ]
        },
        {
          "output_type": "stream",
          "name": "stderr",
          "text": [
            "WARNING:pyngrok.process.ngrok:t=2025-04-12T04:13:14+0000 lvl=warn msg=\"failed to check for update\" obj=updater err=\"Post \\\"https://update.equinox.io/check\\\": context deadline exceeded\"\n"
          ]
        }
      ]
    },
    {
      "cell_type": "code",
      "source": [],
      "metadata": {
        "id": "POD-f2eaLUZg"
      },
      "execution_count": null,
      "outputs": []
    }
  ]
}